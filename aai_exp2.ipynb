{
  "nbformat": 4,
  "nbformat_minor": 0,
  "metadata": {
    "colab": {
      "provenance": []
    },
    "kernelspec": {
      "name": "python3",
      "display_name": "Python 3"
    },
    "language_info": {
      "name": "python"
    }
  },
  "cells": [
    {
      "cell_type": "code",
      "source": [
        "import numpy as np\n",
        "import matplotlib.pyplot as plt\n",
        "import torch\n",
        "import torchvision\n",
        "import torchvision.transforms as transforms\n",
        "import networkx as nx\n",
        "\n",
        "# Step 1: Load MNIST Dataset\n",
        "transform = transforms.Compose([transforms.ToTensor()])\n",
        "mnist_data = torchvision.datasets.MNIST(root='./data', train=False, transform=transform, download=True)\n",
        "image, _ = mnist_data[0]  # Taking the first image\n",
        "image = image.squeeze().numpy()  # Convert to NumPy\n",
        "\n",
        "# Step 2: Define MRF Grid Graph\n",
        "height, width = image.shape\n",
        "G = nx.grid_2d_graph(height, width)\n",
        "\n",
        "# Step 3: Define MRF Energy Function (Smoothness + Edge Term)\n",
        "def mrf_energy(image, beta=2.0, threshold=0.5):\n",
        "    \"\"\"\n",
        "    Compute MRF energy for edge detection.\n",
        "    - beta: Controls smoothness\n",
        "    - threshold: Edge threshold based on intensity difference\n",
        "    \"\"\"\n",
        "    edges = []\n",
        "    for (x1, y1), (x2, y2) in G.edges():\n",
        "        pixel_diff = abs(image[x1, y1] - image[x2, y2])\n",
        "        if pixel_diff > threshold:  # Strong edge detected\n",
        "            edges.append(((x1, y1), (x2, y2)))\n",
        "\n",
        "    return edges\n",
        "\n",
        "# Step 4: Apply MRF-based Edge Detection\n",
        "edges = mrf_energy(image)\n",
        "\n",
        "# Step 5: Visualize Original Image and Edges\n",
        "plt.figure(figsize=(10, 5))\n",
        "\n",
        "# Original Image\n",
        "plt.subplot(1, 2, 1)\n",
        "plt.imshow(image, cmap='gray')\n",
        "plt.title(\"Original MNIST Image\")\n",
        "plt.axis(\"off\")\n",
        "\n",
        "# Detected Edges\n",
        "plt.subplot(1, 2, 2)\n",
        "edge_image = np.zeros_like(image)\n",
        "for (x1, y1), (x2, y2) in edges:\n",
        "    edge_image[x1, y1] = 1  # Mark edges\n",
        "\n",
        "plt.imshow(edge_image, cmap='gray')\n",
        "plt.title(\"Detected Edges (MRF)\")\n",
        "plt.axis(\"off\")\n",
        "\n",
        "plt.show()\n"
      ],
      "metadata": {
        "colab": {
          "base_uri": "https://localhost:8080/",
          "height": 480
        },
        "id": "-QI1tzTKdfDf",
        "outputId": "e17044c3-a67c-42fd-b925-bcd9d1dd8681"
      },
      "execution_count": 9,
      "outputs": [
        {
          "output_type": "stream",
          "name": "stderr",
          "text": [
            "100%|██████████| 9.91M/9.91M [00:00<00:00, 57.5MB/s]\n",
            "100%|██████████| 28.9k/28.9k [00:00<00:00, 1.76MB/s]\n",
            "100%|██████████| 1.65M/1.65M [00:00<00:00, 14.5MB/s]\n",
            "100%|██████████| 4.54k/4.54k [00:00<00:00, 6.52MB/s]\n"
          ]
        },
        {
          "output_type": "display_data",
          "data": {
            "text/plain": [
              "<Figure size 1000x500 with 2 Axes>"
            ],
            "image/png": "[encoded data removed]"
          },
          "metadata": {}
        }
      ]
    },
    {
      "cell_type": "code",
      "source": [],
      "metadata": {
        "id": "syf4aIdDdfos"
      },
      "execution_count": null,
      "outputs": []
    }
  ]
}